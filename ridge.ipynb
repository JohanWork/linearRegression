{
 "cells": [
  {
   "cell_type": "markdown",
   "metadata": {},
   "source": [
    "# Linear gradient my own implementation\n",
    "\n",
    "https://github.com/leventbass/linear_regression/blob/master/Linear_Regression.ipynb"
   ]
  },
  {
   "cell_type": "code",
   "execution_count": 20,
   "metadata": {},
   "outputs": [],
   "source": [
    "from sklearn.datasets import load_boston\n"
   ]
  },
  {
   "cell_type": "code",
   "execution_count": 21,
   "metadata": {},
   "outputs": [],
   "source": [
    "import numpy as np\n",
    "import random\n",
    "import tqdm\n",
    "import matplotlib.pyplot as plt\n",
    "from typing import List\n",
    "from IPython import embed\n",
    "Vector=List[float]"
   ]
  },
  {
   "cell_type": "code",
   "execution_count": 22,
   "metadata": {},
   "outputs": [
    {
     "name": "stdout",
     "output_type": "stream",
     "text": [
      "Total samples in our dataset is: 506\n",
      "(506, 13)\n"
     ]
    }
   ],
   "source": [
    "dataset = load_boston()\n",
    "\n",
    "X = dataset.data\n",
    "y = dataset.target[:,np.newaxis]\n",
    "\n",
    "print(\"Total samples in our dataset is: {}\".format(X.shape[0]))\n",
    "print(X.shape)"
   ]
  },
  {
   "cell_type": "code",
   "execution_count": 23,
   "metadata": {},
   "outputs": [],
   "source": [
    "def cost_function(X:np.ndarray, y:Vector, params:Vector) -> float:\n",
    "    n_samples = len(y)\n",
    "    y_p = X @ params\n",
    "    #print(sum(params**2*0.3))\n",
    "    #print(1/(n_samples))*np.sum((y_p-y)**2)\n",
    "    print(sum(params**2*0.3))\n",
    "    return (1/(n_samples))*np.sum((y_p-y)**2)+sum(params**2*0.3)\n",
    "\n",
    "def gradient_descent(X:np.ndarray, y:Vector, params:Vector, learning_rate:float, n_iters:float,batch_size:int=1) ->tuple:\n",
    "    guess = [random.random() for _ in X[0]]\n",
    "    guess = np.asarray(guess)\n",
    "    guess =np.reshape(guess, (len(guess), 1))  \n",
    "\n",
    "    cost_history=np.zeros((n_iters,1))\n",
    "    \n",
    "    for _ in tqdm.trange(n_iters,desc='gradient descent'):\n",
    "        gradient = -1/len(X) * 2*X.T @ (X @ guess - y)\n",
    "        gradient_step=gradient*learning_rate\n",
    "        guess=np.add(guess,gradient_step)\n",
    "        cost=cost_function(X,y,guess)\n",
    "        cost_history[_]=cost\n",
    "    return (cost_history, guess)"
   ]
  },
  {
   "cell_type": "code",
   "execution_count": 24,
   "metadata": {},
   "outputs": [],
   "source": [
    "n_samples = len(y)\n",
    "\n",
    "mu = np.mean(X, 0)\n",
    "sigma = np.std(X, 0)\n",
    "\n",
    "X = (X-mu) / sigma\n",
    "\n",
    "# We are adding m here in y=kx+m\n",
    "\n",
    "X = np.hstack((np.ones((n_samples,1)),X))\n",
    "n_features = np.size(X,1)\n",
    "params = np.zeros((n_features,1))"
   ]
  },
  {
   "cell_type": "code",
   "execution_count": 25,
   "metadata": {},
   "outputs": [
    {
     "name": "stderr",
     "output_type": "stream",
     "text": [
      "gradient descent: 100%|██████████| 50/50 [00:00<00:00, 1872.31it/s]"
     ]
    },
    {
     "name": "stdout",
     "output_type": "stream",
     "text": [
      "[0.]\n",
      "Initial cost is:  [592.146917] \n",
      "\n",
      "[1.51028546]\n",
      "[1.86165676]\n",
      "[2.37257505]\n",
      "[3.01785542]\n",
      "[3.77761568]\n",
      "[4.63602831]\n",
      "[5.58036757]\n",
      "[6.60028273]\n",
      "[7.68724421]\n",
      "[8.83412213]\n",
      "[10.03486593]\n",
      "[11.28426111]\n",
      "[12.57774485]\n",
      "[13.91126629]\n",
      "[15.28118099]\n",
      "[16.68417114]\n",
      "[18.11718528]\n",
      "[19.57739291]\n",
      "[21.06215012]\n",
      "[22.56897371]\n",
      "[24.09552146]\n",
      "[25.63957714]\n",
      "[27.19903903]\n",
      "[28.77191092]\n",
      "[30.35629509]\n",
      "[31.95038658]\n",
      "[33.55246861]\n",
      "[35.16090853]\n",
      "[36.77415449]\n",
      "[38.3907323]\n",
      "[40.00924269]\n",
      "[41.62835869]\n",
      "[43.24682312]\n",
      "[44.86344623]\n",
      "[46.47710334]\n",
      "[48.08673261]\n",
      "[49.69133277]\n",
      "[51.28996095]\n",
      "[52.8817305]\n",
      "[54.46580889]\n",
      "[56.04141559]\n",
      "[57.60782003]\n",
      "[59.16433961]\n",
      "[60.71033767]\n",
      "[62.24522162]\n",
      "[63.76844105]\n",
      "[65.27948587]\n",
      "[66.77788457]\n",
      "[68.26320246]\n",
      "[69.73503999]\n",
      "Optimal parameters are: \n",
      " [[14.61775809]\n",
      " [-0.51492978]\n",
      " [ 0.98451515]\n",
      " [-0.46341177]\n",
      " [ 0.89715066]\n",
      " [-0.15255679]\n",
      " [ 3.02070384]\n",
      " [-0.09137819]\n",
      " [-0.51602934]\n",
      " [ 0.21790504]\n",
      " [-0.67025245]\n",
      " [-1.16135624]\n",
      " [ 1.13494799]\n",
      " [-1.9902491 ]] \n",
      "\n",
      "Final cost is:  [159.52194319]\n"
     ]
    },
    {
     "name": "stderr",
     "output_type": "stream",
     "text": [
      "\n"
     ]
    },
    {
     "data": {
      "image/png": "[encoded data removed]",
      "text/plain": [
       "<Figure size 432x288 with 1 Axes>"
      ]
     },
     "metadata": {
      "needs_background": "light"
     },
     "output_type": "display_data"
    }
   ],
   "source": [
    "n_iters = 50\n",
    "learning_rate = 0.01\n",
    "\n",
    "initial_cost = cost_function(X, y, params)\n",
    "\n",
    "print(\"Initial cost is: \", initial_cost, \"\\n\")\n",
    "\n",
    "(J_history, optimal_params) = gradient_descent(X, y, params, learning_rate, n_iters)\n",
    "\n",
    "print(\"Optimal parameters are: \\n\", optimal_params, \"\\n\")\n",
    "\n",
    "print(\"Final cost is: \", J_history[-1])\n",
    "\n",
    "plt.plot(range(len(J_history)), J_history, 'r')\n",
    "\n",
    "plt.title(\"Convergence Graph of Cost Function\")\n",
    "plt.xlabel(\"Number of Iterations\")\n",
    "plt.ylabel(\"Cost\")\n",
    "plt.show()\n",
    "\n"
   ]
  },
  {
   "cell_type": "markdown",
   "metadata": {},
   "source": [
    "## Creating a class "
   ]
  },
  {
   "cell_type": "code",
   "execution_count": null,
   "metadata": {},
   "outputs": [],
   "source": [
    "class LinearRegression_1():\n",
    "    def __init__(self, X, y, learning_rate=0.03, n_iter=1500):\n",
    "        self.learning_rate = learning_rate\n",
    "        self.n_iter = n_iter\n",
    "        self.n_samples = len(y)\n",
    "        self.n_features = np.size(X, 1)\n",
    "        self.X = np.hstack((np.ones(\n",
    "            (self.n_samples, 1)), (X - np.mean(X, 0)) / np.std(X, 0)))\n",
    "        self.y = y[:, np.newaxis]\n",
    "        self.coef_ = None\n",
    "        self.intercept_ = None\n",
    "\n",
    "    def fit(self):\n",
    "\n",
    "        \n",
    "        guess = [random.random() for _ in self.X[0]]\n",
    "        guess = np.asarray(guess)\n",
    "        guess =np.reshape(guess, (len(guess), 1))  \n",
    "\n",
    "\n",
    "        for _ in tqdm.trange(self.n_iter,desc='gradient descent'):\n",
    "            gradient = -1/len(self.X) * 2*self.X.T @ (self.X @ guess - self.y)\n",
    "            gradient_step=gradient*self.learning_rate\n",
    "            guess=np.add(guess,gradient_step)\n",
    "\n",
    "        self.params=guess\n",
    "        self.intercept_ = guess[0]\n",
    "        self.coef_ = guess[1:]\n",
    "        \n",
    "        return self\n",
    "    \n",
    "    def score(self, X=None, y=None):\n",
    "\n",
    "        if X is None:\n",
    "            X = self.X\n",
    "        else:\n",
    "            n_samples = np.size(X, 0)\n",
    "            X = np.hstack((np.ones(\n",
    "                (n_samples, 1)), (X - np.mean(X, 0)) / np.std(X, 0)))\n",
    "\n",
    "        if y is None:\n",
    "            y = self.y\n",
    "        else:\n",
    "            y = y[:, np.newaxis]\n",
    "\n",
    "        y_pred = X @ self.params\n",
    "        score = 1 - (((y - y_pred)**2).sum() / ((y - y.mean())**2).sum())\n",
    "\n",
    "        return score\n",
    "\n",
    "    def predict(self, X):\n",
    "        n_samples = np.size(X, 0)\n",
    "        y = np.hstack((np.ones((n_samples, 1)), (X-np.mean(X, 0)) \\\n",
    "                            / np.std(X, 0))) @ self.params\n",
    "        return y\n",
    "\n",
    "    def get_params(self):\n",
    "\n",
    "        return self.params"
   ]
  },
  {
   "cell_type": "code",
   "execution_count": null,
   "metadata": {},
   "outputs": [],
   "source": [
    "from sklearn.datasets import load_boston\n",
    "from sklearn.model_selection import train_test_split\n",
    "from sklearn.linear_model import LinearRegression\n",
    "import pandas as pd\n",
    "\n",
    "\n",
    "dataset = load_boston()\n",
    "\n",
    "X = dataset.data\n",
    "y = dataset.target\n",
    "\n",
    "X_train, X_test, y_train, y_test = train_test_split(\\\n",
    "                X, y, test_size=0.3, random_state=42)\n",
    "\n",
    "our_regressor = LinearRegression_1(X_train, y_train).fit()\n",
    "sklearn_regressor = LinearRegression().fit(X_train, y_train)\n",
    "\n",
    "our_train_accuracy = our_regressor.score()\n",
    "sklearn_train_accuracy = sklearn_regressor.score(X_train, y_train)\n",
    "\n",
    "our_test_accuracy = our_regressor.score(X_test, y_test)\n",
    "sklearn_test_accuracy = sklearn_regressor.score(X_test, y_test)\n",
    "\n",
    "pd.DataFrame([[our_train_accuracy, sklearn_train_accuracy],[our_test_accuracy, sklearn_test_accuracy]],\n",
    "             ['Training Accuracy', 'Test Accuracy'],    \n",
    "             ['Our Implementation', 'Sklearn\\'s Implementation'])"
   ]
  },
  {
   "cell_type": "code",
   "execution_count": null,
   "metadata": {},
   "outputs": [],
   "source": [
    "import numpy as np\n",
    "test=np.ndarray([1,2,3,4,5])\n",
    "test"
   ]
  },
  {
   "cell_type": "code",
   "execution_count": null,
   "metadata": {},
   "outputs": [],
   "source": []
  }
 ],
 "metadata": {
  "kernelspec": {
   "display_name": "Python 3",
   "language": "python",
   "name": "python3"
  },
  "language_info": {
   "codemirror_mode": {
    "name": "ipython",
    "version": 3
   },
   "file_extension": ".py",
   "mimetype": "text/x-python",
   "name": "python",
   "nbconvert_exporter": "python",
   "pygments_lexer": "ipython3",
   "version": "3.6.8"
  }
 },
 "nbformat": 4,
 "nbformat_minor": 4
}
