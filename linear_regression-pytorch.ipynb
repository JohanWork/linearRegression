{
 "cells": [
  {
   "cell_type": "code",
   "execution_count": 1,
   "metadata": {},
   "outputs": [],
   "source": [
    "import numpy as np \n",
    "import torch\n",
    "import random\n",
    "import tqdm\n",
    "import matplotlib.pyplot as plt\n",
    "from sklearn.datasets import load_boston\n",
    "from IPython import embed"
   ]
  },
  {
   "cell_type": "code",
   "execution_count": 2,
   "metadata": {},
   "outputs": [],
   "source": [
    "dataset = load_boston()\n",
    "\n",
    "X = dataset.data\n",
    "y = dataset.target[:,np.newaxis]"
   ]
  },
  {
   "cell_type": "code",
   "execution_count": 3,
   "metadata": {},
   "outputs": [],
   "source": [
    "X=torch.from_numpy(X)\n",
    "y=torch.from_numpy(y)\n",
    "torch_con=torch.FloatTensor([1 for _ in X[0]])"
   ]
  },
  {
   "cell_type": "code",
   "execution_count": 4,
   "metadata": {},
   "outputs": [],
   "source": [
    "torch_con=torch.FloatTensor([[1.0] for _ in X[:,-1]]).type('torch.DoubleTensor')\n",
    "\n",
    "n_samples = len(y)\n",
    "\n",
    "mu = torch.mean(X,0)\n",
    "sigma = torch.std(X,0)\n",
    "X = (X-mu) / sigma\n",
    "\n",
    "\n",
    "X=torch.cat((torch_con,X),dim=-1)\n",
    "n_features=X.shape[1]\n"
   ]
  },
  {
   "cell_type": "code",
   "execution_count": 8,
   "metadata": {},
   "outputs": [],
   "source": [
    "#X = np.hstack((np.ones((n_samples,1)),X))\n",
    "#n_features = np.size(X,1)\n",
    "params = torch.zeros((n_features,1)).type('torch.DoubleTensor')\n"
   ]
  },
  {
   "cell_type": "code",
   "execution_count": 9,
   "metadata": {},
   "outputs": [],
   "source": [
    "def cost_function(X, y, params) -> float:\n",
    "    n_samples = len(y)\n",
    "    y_p = X @ params\n",
    "    return (1/(n_samples))*sum((y_p-y)**2)\n",
    "\n",
    "def gradient_descent(X, y, params, learning_rate, n_iters):\n",
    "    guess = torch.zeros((n_features,1)).type('torch.DoubleTensor')\n",
    "    cost_history=torch.zeros((n_iters,1))\n",
    "    \n",
    "    for _ in tqdm.trange(n_iters,desc='gradient descent'):\n",
    "        gradient = -1/len(X) * 2*X.t() @ (X @ guess - y)\n",
    "        gradient_step=gradient*learning_rate\n",
    "        guess=torch.add(guess,gradient_step)\n",
    "        cost=cost_function(X,y,guess)\n",
    "        cost_history[_]=cost\n",
    "    return (cost_history, guess)\n",
    "\n"
   ]
  },
  {
   "cell_type": "code",
   "execution_count": 10,
   "metadata": {},
   "outputs": [
    {
     "name": "stderr",
     "output_type": "stream",
     "text": [
      "gradient descent:   2%|▏         | 30/1500 [00:00<00:05, 292.39it/s]"
     ]
    },
    {
     "name": "stdout",
     "output_type": "stream",
     "text": [
      "Initial cost is:  tensor([592.1469], dtype=torch.float64) \n",
      "\n"
     ]
    },
    {
     "name": "stderr",
     "output_type": "stream",
     "text": [
      "gradient descent: 100%|██████████| 1500/1500 [00:04<00:00, 308.47it/s]\n"
     ]
    },
    {
     "name": "stdout",
     "output_type": "stream",
     "text": [
      "Optimal parameters are: \n",
      " tensor([[ 2.2533e+01],\n",
      "        [-9.0369e-01],\n",
      "        [ 1.0387e+00],\n",
      "        [ 1.4295e-02],\n",
      "        [ 7.0040e-01],\n",
      "        [-2.0222e+00],\n",
      "        [ 2.7032e+00],\n",
      "        [-2.1925e-03],\n",
      "        [-3.1050e+00],\n",
      "        [ 2.3430e+00],\n",
      "        [-1.7190e+00],\n",
      "        [-2.0480e+00],\n",
      "        [ 8.4871e-01],\n",
      "        [-3.7344e+00]], dtype=torch.float64) \n",
      "\n",
      "Final cost is:  tensor([21.9110])\n"
     ]
    },
    {
     "data": {
      "image/png": "[encoded data removed]",
      "text/plain": [
       "<Figure size 432x288 with 1 Axes>"
      ]
     },
     "metadata": {
      "needs_background": "light"
     },
     "output_type": "display_data"
    }
   ],
   "source": [
    "n_iters = 1500\n",
    "learning_rate = 0.01\n",
    "\n",
    "initial_cost = cost_function(X, y, params)\n",
    "\n",
    "print(\"Initial cost is: \", initial_cost, \"\\n\")\n",
    "\n",
    "(J_history, optimal_params) = gradient_descent(X, y, params, learning_rate, n_iters)\n",
    "\n",
    "print(\"Optimal parameters are: \\n\", optimal_params, \"\\n\")\n",
    "\n",
    "print(\"Final cost is: \", J_history[-1])\n",
    "\n",
    "plt.plot(range(len(J_history)), J_history.numpy(), 'r')\n",
    "\n",
    "plt.title(\"Convergence Graph of Cost Function\")\n",
    "plt.xlabel(\"Number of Iterations\")\n",
    "plt.ylabel(\"Cost\")\n",
    "plt.show()"
   ]
  },
  {
   "cell_type": "code",
   "execution_count": null,
   "metadata": {},
   "outputs": [],
   "source": []
  }
 ],
 "metadata": {
  "kernelspec": {
   "display_name": "Python 3",
   "language": "python",
   "name": "python3"
  },
  "language_info": {
   "codemirror_mode": {
    "name": "ipython",
    "version": 3
   },
   "file_extension": ".py",
   "mimetype": "text/x-python",
   "name": "python",
   "nbconvert_exporter": "python",
   "pygments_lexer": "ipython3",
   "version": "3.6.8"
  }
 },
 "nbformat": 4,
 "nbformat_minor": 4
}
